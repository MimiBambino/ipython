{
 "cells": [
  {
   "cell_type": "markdown",
   "metadata": {},
   "source": [
    "###This file will read in the live Firebase data, read in new data and add it to the large data file to be uploaded to Firebase."
   ]
  },
  {
   "cell_type": "code",
   "execution_count": 1,
   "metadata": {
    "collapsed": false
   },
   "outputs": [
    {
     "name": "stdout",
     "output_type": "stream",
     "text": [
      "3725\n"
     ]
    }
   ],
   "source": [
    "#Read in the big file\n",
    "\n",
    "import json\n",
    "import urllib2\n",
    "\n",
    "response = urllib2.urlopen(\"https://yarnsh.firebaseio.com/.json\")\n",
    "big_data = json.load(response)   \n",
    "print len(big_data)\n"
   ]
  },
  {
   "cell_type": "code",
   "execution_count": 5,
   "metadata": {
    "collapsed": false
   },
   "outputs": [
    {
     "data": {
      "text/plain": [
       "126"
      ]
     },
     "execution_count": 5,
     "metadata": {},
     "output_type": "execute_result"
    }
   ],
   "source": [
    "# Read in the new data\n",
    "\n",
    "with open(\"new.json\") as json_file:\n",
    "    new_data = json.load(json_file)   \n",
    "len(new_data)"
   ]
  },
  {
   "cell_type": "code",
   "execution_count": 6,
   "metadata": {
    "collapsed": false
   },
   "outputs": [
    {
     "data": {
      "text/plain": [
       "3851"
      ]
     },
     "execution_count": 6,
     "metadata": {},
     "output_type": "execute_result"
    }
   ],
   "source": [
    "# Append new_data to the end of big_data\n",
    "\n",
    "#big_data.extend(new_data)\n",
    "#len(big_data)\n",
    "\n",
    "\n",
    "# Append new_data to the beginning of big_data\n",
    "new_data.extend(big_data)\n",
    "len(new_data)"
   ]
  },
  {
   "cell_type": "code",
   "execution_count": 7,
   "metadata": {
    "collapsed": false
   },
   "outputs": [],
   "source": [
    "with open('upload_this_data_to_Firebase.json', 'w') as outfile:\n",
    "    #json.dump(big_data, outfile)\n",
    "    json.dump(new_data, outfile)"
   ]
  },
  {
   "cell_type": "code",
   "execution_count": 8,
   "metadata": {
    "collapsed": false
   },
   "outputs": [
    {
     "data": {
      "text/plain": [
       "{u'color': u'orange',\n",
       " u'fiber': u'75% Superwash Merino Wool, 25% Nylon',\n",
       " u'line': u'Just Sock',\n",
       " u'link': u'http://www.shirstycat.com/product/just-sock-pumpkin-everything/?affiliates=3',\n",
       " u'manufacturer': u'Shirsty Cat Designs',\n",
       " u'name': u'Pumpkin Everything',\n",
       " u'weight': u'Fingering'}"
      ]
     },
     "execution_count": 8,
     "metadata": {},
     "output_type": "execute_result"
    }
   ],
   "source": [
    "#for i in range(len(data)):\n",
    "#    name = data[i]['manufacturer'] + data[i]['line'] + data[i]['name']\n",
    "#    name = name.replace(\" \", \"\")\n",
    "#    data[i]['jpg'] = name + \".jpg\"\n",
    "\n",
    "big_data[0]"
   ]
  },
  {
   "cell_type": "code",
   "execution_count": 113,
   "metadata": {
    "collapsed": false,
    "scrolled": true
   },
   "outputs": [
    {
     "data": {
      "text/plain": [
       "{u'color': u'multi',\n",
       " u'fiber': u'100% Acrylic',\n",
       " u'line': u'Bonbons',\n",
       " u'link': 'http://shrsl.com/?~a44f',\n",
       " u'manufacturer': u'Lion Brand',\n",
       " u'name': u'Brights',\n",
       " u'weight': u'DK'}"
      ]
     },
     "execution_count": 113,
     "metadata": {},
     "output_type": "execute_result"
    }
   ],
   "source": [
    "big_data[3513]"
   ]
  },
  {
   "cell_type": "code",
   "execution_count": 112,
   "metadata": {
    "collapsed": false
   },
   "outputs": [],
   "source": [
    "big_data[3513]['link'] = 'http://shrsl.com/?~a44f'"
   ]
  },
  {
   "cell_type": "code",
   "execution_count": 41,
   "metadata": {
    "collapsed": false
   },
   "outputs": [],
   "source": [
    "#big_data[3655]['awesome'] = True"
   ]
  },
  {
   "cell_type": "code",
   "execution_count": 28,
   "metadata": {
    "collapsed": false
   },
   "outputs": [],
   "source": [
    "# Remove jpg and image properties to json for KnitPicks\n",
    "\n",
    "#for i in range(len(big_data)):\n",
    "#    if big_data[i].has_key(\"image\"):\n",
    "#        del big_data[i][\"image\"]\n",
    "#    if big_data[i].has_key(\"jpg\"):\n",
    "#        del big_data[i][\"jpg\"]"
   ]
  },
  {
   "cell_type": "code",
   "execution_count": 4,
   "metadata": {
    "collapsed": false
   },
   "outputs": [
    {
     "data": {
      "text/plain": [
       "{u'color': u'orange',\n",
       " u'fiber': u'75% Superwash Merino Wool, 25% Nylon',\n",
       " u'line': u'Just Sock',\n",
       " u'link': u'http://www.shirstycat.com/product/just-sock-pumpkin-everything/?affiliates=3',\n",
       " u'manufacturer': u'Shirsty Cat Designs',\n",
       " u'name': u'Pumpkin Everything',\n",
       " u'weight': u'Fingering'}"
      ]
     },
     "execution_count": 4,
     "metadata": {},
     "output_type": "execute_result"
    }
   ],
   "source": [
    "#big_data[len(big_data)-1]\n",
    "new_data[0]"
   ]
  },
  {
   "cell_type": "code",
   "execution_count": 5,
   "metadata": {
    "collapsed": true
   },
   "outputs": [],
   "source": []
  },
  {
   "cell_type": "code",
   "execution_count": 114,
   "metadata": {
    "collapsed": true
   },
   "outputs": [],
   "source": [
    "with open('upload_this_data_to_Firebase.json', 'w') as outfile:\n",
    "    json.dump(big_data, outfile)"
   ]
  },
  {
   "cell_type": "code",
   "execution_count": null,
   "metadata": {
    "collapsed": true
   },
   "outputs": [],
   "source": []
  }
 ],
 "metadata": {
  "kernelspec": {
   "display_name": "Python 2",
   "language": "python",
   "name": "python2"
  },
  "language_info": {
   "codemirror_mode": {
    "name": "ipython",
    "version": 2
   },
   "file_extension": ".py",
   "mimetype": "text/x-python",
   "name": "python",
   "nbconvert_exporter": "python",
   "pygments_lexer": "ipython2",
   "version": "2.7.9"
  }
 },
 "nbformat": 4,
 "nbformat_minor": 0
}
